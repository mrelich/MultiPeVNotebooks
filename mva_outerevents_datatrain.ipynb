{
 "cells": [
  {
   "cell_type": "code",
   "execution_count": 1,
   "metadata": {
    "collapsed": false
   },
   "outputs": [],
   "source": [
    "%matplotlib inline\n",
    "\n",
    "import pandas as pd\n",
    "import numpy as np\n",
    "\n",
    "import Constants as C\n",
    "from PlotTool import PlotTool\n",
    "from Loader import Loader\n",
    "from Cuts import qlayerCut, firstHitInOuter, maxDistMaxDoms, balloonCut\n",
    "\n",
    "from sklearn.cross_validation import train_test_split\n",
    "from sklearn.tree import DecisionTreeClassifier\n",
    "from sklearn.ensemble import AdaBoostClassifier\n",
    "from sklearn.metrics import log_loss\n"
   ]
  },
  {
   "cell_type": "code",
   "execution_count": 2,
   "metadata": {
    "collapsed": false
   },
   "outputs": [],
   "source": [
    "# Load the data and apply the baseline selection.  Keep only\n",
    "# the features we are going to use\n",
    "\n",
    "b_features = C.bdt_features\n",
    "\n",
    "# Weigth branches for book keeping\n",
    "weights = ['w','wE2',\n",
    "           'PrimaryNeutrinoEnergy','OneWeight',\n",
    "           'NEvents','evtid','runid',\n",
    "          ]\n",
    "\n",
    "# Define the baseline selection\n",
    "basesel = C.basesel \n",
    "basesel += \"&&(ImpLF_rchi2 > 80)\" # To be orthogonal to EHEAlert selection\n",
    "#L3 = \"&&(rho_travel < 250 && hs_z_travel > -200 && hs_z_travel < 100 && tlarge5[0]-tearly5[0] < 200)\"\n",
    "#L3 = \"&&(hs_z_travel > -200 && hs_z_travel < 100 && tlarge5[0]-tearly5[0] < 200)\"\n",
    "L3 = '&&(tlarge5[0]-tearly5[0] < 200)'\n",
    "basesel += L3\n",
    "\n",
    "# Get data\n",
    "loader = Loader(basesel)\n",
    "d_nue  = loader.getNuE() \n",
    "d_data = loader.getData()\n",
    "\n",
    "# Want to keep astro weights as well. Insert dummy astro\n",
    "d_data['w'] = pd.Series(np.ones(len(d_data['rho_travel']),dtype=float),index=d_data.index)\n",
    "d_data['wE2'] = d_data['w']\n",
    "d_data['PrimaryNeutrinoEnergy'] = pd.Series(np.zeros(len(d_data['w']),dtype=float), index=d_data.index)\n",
    "\n",
    "# Insert the targets\n",
    "d_nue['target'] = pd.Series(np.ones(len(d_nue['w']),dtype=int), index=d_nue.index)\n",
    "d_data['target'] = pd.Series(np.zeros(len(d_data['w']),dtype=int), index=d_data.index)\n",
    "\n",
    "# Select outer events only\n",
    "d_nue = qlayerCut(d_nue,False,0.8)\n",
    "d_data = qlayerCut(d_data,False,0.8)\n",
    "\n",
    "# Remove balloon events\n",
    "d_nue = balloonCut(d_nue)\n",
    "d_data = balloonCut(d_data)\n",
    "\n",
    "# Remove -200 to 0\n",
    "def cogzcut(dt):\n",
    "    return dt[((-200 > dt.hs_cogz) | (dt.hs_cogz > 0))]\n",
    "#d_nue = cogzcut(d_nue)\n",
    "#d_data = cogzcut(d_data)\n",
    "\n",
    "# Only keep events that have hit in outer list\n",
    "#d_nue = firstHitInOuter(d_nue)\n",
    "#d_data = firstHitInOuter(d_data)\n",
    "\n",
    "# Insert the maxdist var\n",
    "d_nue['maxDist'] = maxDistMaxDoms(d_nue)\n",
    "d_data['maxDist'] = maxDistMaxDoms(d_data)\n",
    "#d_nue = d_nue[ d_nue['maxDist'] < 300 ]\n",
    "#d_data = d_data[ d_data['maxDist'] < 300 ]\n",
    "\n",
    "# Separate high energy and low energy\n",
    "d_he_nue = d_nue[np.log10(d_nue['PrimaryNeutrinoEnergy']) >= 6] \n",
    "d_le_nue = d_nue[np.log10(d_nue['PrimaryNeutrinoEnergy']) < 6]\n",
    "\n",
    "# Select off only the features we want for training\n",
    "d_he_nue = d_he_nue[ b_features + weights +['target'] ]\n",
    "d_le_nue = d_le_nue[ b_features + weights +['target'] ]\n",
    "d_data   = d_data[ b_features + weights + ['target'] ]\n"
   ]
  },
  {
   "cell_type": "code",
   "execution_count": 3,
   "metadata": {
    "collapsed": false
   },
   "outputs": [
    {
     "name": "stdout",
     "output_type": "stream",
     "text": [
      "-------------------------\n",
      "Consistency check:\n",
      "Data:  1.0 35700.0\n",
      "E^-2:     1.0 0.379150277234\n"
     ]
    }
   ],
   "source": [
    "# Break into testing and training data sets\n",
    "trainfrac = 0.5\n",
    "X_nue_train, X_nue_test, y_nue_train, y_nue_test = train_test_split(d_he_nue[b_features+weights],\n",
    "                                                                    d_he_nue['target'],\n",
    "                                                                    train_size=trainfrac,\n",
    "                                                                    random_state=194637)\n",
    "\n",
    "X_dt_train, X_dt_test, y_dt_train, y_dt_test = train_test_split(d_data[b_features+weights],\n",
    "                                                                    d_data['target'],\n",
    "                                                                    train_size=trainfrac,\n",
    "                                                                    random_state=194637)\n",
    "\n",
    "# Normalize the training set weights\n",
    "X_nue_train.loc[:,'wE2'] *= 1. / sum(X_nue_train['wE2'])\n",
    "X_dt_train.loc[:,'wE2']  *= 1. / sum(X_dt_train['wE2'])\n",
    "\n",
    "# Now mix sig and bkg\n",
    "X_train = X_nue_train.append(X_dt_train)\n",
    "X_test  = X_nue_test.append(X_dt_test)\n",
    "y_train = y_nue_train.append(y_dt_train)\n",
    "y_test  = y_nue_test.append(y_dt_test)\n",
    "\n",
    "# Adjust the weights\n",
    "#X_train['w'] *= 1/trainfrac\n",
    "X_test.loc[:,'w']  *= 1/(1-trainfrac)\n",
    "\n",
    "#X_train['wE2'] *= 1/trainfrac\n",
    "X_test.loc[:,'wE2']  *= 1/(1-trainfrac)\n",
    "\n",
    "print \"-------------------------\"\n",
    "print \"Consistency check:\"\n",
    "print \"Data: \", sum(X_train[ y_train < 0.5 ]['wE2']), sum(X_test[ y_test < 0.5 ]['wE2']) \n",
    "print \"E^-2:    \", sum(X_train[ y_train > 0.5 ]['wE2']), sum(X_test[ y_test > 0.5 ]['wE2'])\n"
   ]
  },
  {
   "cell_type": "code",
   "execution_count": 4,
   "metadata": {
    "collapsed": true
   },
   "outputs": [],
   "source": [
    "# Ok now we have our data separated and we can train our classifier\n",
    "# In a separate script, do a grid search to best determine the hyper parameters.\n",
    "# Here we can train the classifier\n",
    "\n",
    "rs1 = 0 #9182734\n",
    "rs2 = 47382 #918273 #564293\n",
    "\n",
    "def classifier(ntrees,maxdepth,minsplit,learningrate,sl,maxfeat,alg):\n",
    "\n",
    "    # Using a BDT for now\n",
    "    decisiontree = DecisionTreeClassifier(max_depth=maxdepth,\n",
    "                                          min_samples_split=minsplit,\n",
    "                                          max_features=maxfeat,\n",
    "                                          min_samples_leaf=sl,\n",
    "                                          random_state=rs1)\n",
    "    clf = AdaBoostClassifier(decisiontree,\n",
    "                             n_estimators=ntrees,\n",
    "                             learning_rate=learningrate,\n",
    "                             algorithm=alg,\n",
    "                             random_state = rs2\n",
    "                            )\n",
    "\n",
    "    return clf\n",
    "\n",
    "def train(clf, X, y):\n",
    "    global b_features\n",
    "    clf.fit(X[ b_features ], y, sample_weight=X['wE2'].as_matrix())\n",
    "    return clf"
   ]
  },
  {
   "cell_type": "code",
   "execution_count": 5,
   "metadata": {
    "collapsed": true
   },
   "outputs": [],
   "source": [
    "import matplotlib.pyplot as plt\n",
    "pt = PlotTool()\n",
    "\n",
    "# define the signal and background for later\n",
    "#dt_sig = X_test[ y_test > 0.5 ]\n",
    "#dt_bkg = X_test[ y_test < 0.5 ]"
   ]
  },
  {
   "cell_type": "code",
   "execution_count": 6,
   "metadata": {
    "collapsed": false
   },
   "outputs": [],
   "source": [
    "# Make a method to plot data and bkg\n",
    "def plotbdt(clf, X_test, y_test, cutval=-1,title=\"\"):\n",
    "\n",
    "    # Get the scores\n",
    "    X_test['scores'] = pd.Series(clf.decision_function(X_test[b_features]),\n",
    "                            index = X_test.index)\n",
    "\n",
    "    # Divide up sig and bkg\n",
    "    dt_sig = X_test[ y_test > 0.5 ]\n",
    "    dt_bkg = X_test[ y_test < 0.5 ]\n",
    "\n",
    "    # Now plot them\n",
    "    sf = 365/34.7\n",
    "    fig,ax = plt.subplots(ncols=1,figsize=(7,6))\n",
    "    pt.ploth1(dt_sig['scores'].as_matrix(),\n",
    "              dt_sig['wE2'].as_matrix(), # * sf,\n",
    "              'BDT Score','Events / year / bin',\n",
    "              r'Astro. $\\nu_{e}$ (E>1PeV)',\n",
    "              50,-1,1,'b',\n",
    "              False,False)\n",
    "    pt.ploth1(dt_bkg['scores'].as_matrix(),\n",
    "              dt_bkg['w'].as_matrix(), # * sf,\n",
    "              'BDT Score','Events / year / bin',\n",
    "              r'Data (50%)',\n",
    "              50,-1,1,'r',\n",
    "              False,False)\n",
    "\n",
    "    plt.title(title)\n",
    "    plt.grid()\n",
    "    plt.legend(loc='best')\n",
    "    if cutval > 0:\n",
    "        plt.plot([cutval,cutval],[1e-6,1e7],lw=2,ls='dashed',c='black')\n",
    "\n",
    "    ax.set_yscale('log')\n",
    "\n",
    "    # Let's also print out the expected sig \n",
    "    # and background for some cutvalues\n",
    "    cuts = np.arange(0.4,0.8,0.05)\n",
    "    for cut in cuts:\n",
    "        print \"Cut:\", cut\n",
    "        print \"\\tData: %f\"%(sum(dt_bkg[ dt_bkg['scores'] > cut]['w'])*sf)\n",
    "        print \"\\tAstro:   %f\"%(sum(dt_sig[ dt_sig['scores'] > cut]['wE2'])*sf)\n"
   ]
  },
  {
   "cell_type": "code",
   "execution_count": 119,
   "metadata": {
    "collapsed": false,
    "scrolled": false
   },
   "outputs": [
    {
     "name": "stdout",
     "output_type": "stream",
     "text": [
      "Cut: 0.4\n",
      "\tData: 63.112392\n",
      "\tAstro:   3.035582\n",
      "Cut: 0.45\n",
      "\tData: 0.000000\n",
      "\tAstro:   2.862222\n",
      "Cut: 0.5\n",
      "\tData: 0.000000\n",
      "\tAstro:   2.687523\n",
      "Cut: 0.55\n",
      "\tData: 0.000000\n",
      "\tAstro:   2.508542\n",
      "Cut: 0.6\n",
      "\tData: 0.000000\n",
      "\tAstro:   2.307549\n",
      "Cut: 0.65\n",
      "\tData: 0.000000\n",
      "\tAstro:   2.035152\n",
      "Cut: 0.7\n",
      "\tData: 0.000000\n",
      "\tAstro:   1.664418\n",
      "Cut: 0.75\n",
      "\tData: 0.000000\n",
      "\tAstro:   1.257989\n"
     ]
    },
    {
     "data": {
      "image/png": "[encoded data removed]",
      "text/plain": [
       "<matplotlib.figure.Figure at 0x7fb2466d4350>"
      ]
     },
     "metadata": {},
     "output_type": "display_data"
    }
   ],
   "source": [
    "# Second Best\n",
    "clf = classifier(300,4,5000,0.1,200,3,'SAMME.R')\n",
    "clf = train(clf, X_train, y_train)\n",
    "plotbdt(clf, X_test, y_test)"
   ]
  },
  {
   "cell_type": "code",
   "execution_count": 7,
   "metadata": {
    "collapsed": false
   },
   "outputs": [
    {
     "name": "stdout",
     "output_type": "stream",
     "text": [
      "Cut: 0.4\n",
      "\tData: 63.112392\n",
      "\tAstro:   3.035582\n",
      "Cut: 0.45\n",
      "\tData: 0.000000\n",
      "\tAstro:   2.862222\n",
      "Cut: 0.5\n",
      "\tData: 0.000000\n",
      "\tAstro:   2.687523\n",
      "Cut: 0.55\n",
      "\tData: 0.000000\n",
      "\tAstro:   2.508542\n",
      "Cut: 0.6\n",
      "\tData: 0.000000\n",
      "\tAstro:   2.307549\n",
      "Cut: 0.65\n",
      "\tData: 0.000000\n",
      "\tAstro:   2.035152\n",
      "Cut: 0.7\n",
      "\tData: 0.000000\n",
      "\tAstro:   1.664418\n",
      "Cut: 0.75\n",
      "\tData: 0.000000\n",
      "\tAstro:   1.257989\n"
     ]
    },
    {
     "data": {
      "image/png": "[encoded data removed]",
      "text/plain": [
       "<matplotlib.figure.Figure at 0x7fc86992fc50>"
      ]
     },
     "metadata": {},
     "output_type": "display_data"
    }
   ],
   "source": [
    "# Second Best\n",
    "clf = classifier(300,4,5000,0.1,200,3,'SAMME.R')\n",
    "clf = train(clf, X_train, y_train)\n",
    "plotbdt(clf, X_test, y_test)"
   ]
  },
  {
   "cell_type": "code",
   "execution_count": 11,
   "metadata": {
    "collapsed": false
   },
   "outputs": [
    {
     "name": "stdout",
     "output_type": "stream",
     "text": [
      "hs_z_travel 0.20\n",
      "rho_travel5 0.07\n",
      "ImpLF_rchi2 0.13\n",
      "ndoms_5pe 0.10\n",
      "nstr_2ndway_5pe 0.06\n",
      "log10(hs_q_tot_pulses) 0.07\n",
      "maxDist 0.05\n",
      "cumuAt600ns 0.10\n",
      "hs_cogz 0.16\n",
      "sqrt(hs_cogx*hs_cogx+hs_cogy*hs_cogy) 0.06\n",
      "Total: 1.0\n"
     ]
    }
   ],
   "source": [
    "fi = clf.feature_importances_\n",
    "tot = 0\n",
    "for i in range(len(b_features)):\n",
    "    print b_features[i], \"%.2f\"%fi[i]\n",
    "    tot += fi[i]\n",
    "print \"Total:\", tot"
   ]
  },
  {
   "cell_type": "code",
   "execution_count": 12,
   "metadata": {
    "collapsed": false
   },
   "outputs": [
    {
     "name": "stdout",
     "output_type": "stream",
     "text": [
      "\n"
     ]
    }
   ],
   "source": [
    "# Write the model out\n",
    "from sklearn.externals import joblib\n",
    "\n",
    "joblib.dump(clf, '../models/bdt_hyperparamopt_cleaningupdate.pkl')\n",
    "print \"\" # don't print out all that joblib stuff..."
   ]
  },
  {
   "cell_type": "code",
   "execution_count": 14,
   "metadata": {
    "collapsed": false
   },
   "outputs": [
    {
     "data": {
      "text/html": [
       "<div>\n",
       "<table border=\"1\" class=\"dataframe\">\n",
       "  <thead>\n",
       "    <tr style=\"text-align: right;\">\n",
       "      <th></th>\n",
       "      <th>evtid</th>\n",
       "      <th>runid</th>\n",
       "      <th>scores</th>\n",
       "      <th>log10(hs_q_tot_pulses)</th>\n",
       "      <th>ndoms_5pe</th>\n",
       "      <th>nstr_2ndway_5pe</th>\n",
       "      <th>hs_cogz</th>\n",
       "      <th>hs_z_travel</th>\n",
       "      <th>rho_travel5</th>\n",
       "      <th>ImpLF_rchi2</th>\n",
       "      <th>cumuAt600ns</th>\n",
       "    </tr>\n",
       "  </thead>\n",
       "  <tbody>\n",
       "    <tr>\n",
       "      <th>39060</th>\n",
       "      <td>65295085</td>\n",
       "      <td>121390</td>\n",
       "      <td>0.440529</td>\n",
       "      <td>3.595195</td>\n",
       "      <td>78</td>\n",
       "      <td>12</td>\n",
       "      <td>-447.630624</td>\n",
       "      <td>31.160356</td>\n",
       "      <td>151.909783</td>\n",
       "      <td>203.114456</td>\n",
       "      <td>0.769728</td>\n",
       "    </tr>\n",
       "    <tr>\n",
       "      <th>43194</th>\n",
       "      <td>10288350</td>\n",
       "      <td>121450</td>\n",
       "      <td>0.438434</td>\n",
       "      <td>4.280505</td>\n",
       "      <td>135</td>\n",
       "      <td>12</td>\n",
       "      <td>-304.816041</td>\n",
       "      <td>-54.353349</td>\n",
       "      <td>147.965334</td>\n",
       "      <td>86.421513</td>\n",
       "      <td>0.850244</td>\n",
       "    </tr>\n",
       "    <tr>\n",
       "      <th>29100</th>\n",
       "      <td>38079124</td>\n",
       "      <td>120810</td>\n",
       "      <td>0.364551</td>\n",
       "      <td>4.093654</td>\n",
       "      <td>61</td>\n",
       "      <td>8</td>\n",
       "      <td>482.076243</td>\n",
       "      <td>-73.679767</td>\n",
       "      <td>136.844039</td>\n",
       "      <td>123.141500</td>\n",
       "      <td>0.827030</td>\n",
       "    </tr>\n",
       "    <tr>\n",
       "      <th>31558</th>\n",
       "      <td>64449045</td>\n",
       "      <td>120860</td>\n",
       "      <td>0.413385</td>\n",
       "      <td>4.271562</td>\n",
       "      <td>158</td>\n",
       "      <td>13</td>\n",
       "      <td>-311.898495</td>\n",
       "      <td>-65.257499</td>\n",
       "      <td>130.118338</td>\n",
       "      <td>138.418693</td>\n",
       "      <td>0.800454</td>\n",
       "    </tr>\n",
       "  </tbody>\n",
       "</table>\n",
       "</div>"
      ],
      "text/plain": [
       "          evtid   runid    scores  log10(hs_q_tot_pulses)  ndoms_5pe  \\\n",
       "39060  65295085  121390  0.440529                3.595195         78   \n",
       "43194  10288350  121450  0.438434                4.280505        135   \n",
       "29100  38079124  120810  0.364551                4.093654         61   \n",
       "31558  64449045  120860  0.413385                4.271562        158   \n",
       "\n",
       "       nstr_2ndway_5pe     hs_cogz  hs_z_travel  rho_travel5  ImpLF_rchi2  \\\n",
       "39060               12 -447.630624    31.160356   151.909783   203.114456   \n",
       "43194               12 -304.816041   -54.353349   147.965334    86.421513   \n",
       "29100                8  482.076243   -73.679767   136.844039   123.141500   \n",
       "31558               13 -311.898495   -65.257499   130.118338   138.418693   \n",
       "\n",
       "       cumuAt600ns  \n",
       "39060     0.769728  \n",
       "43194     0.850244  \n",
       "29100     0.827030  \n",
       "31558     0.800454  "
      ]
     },
     "execution_count": 14,
     "metadata": {},
     "output_type": "execute_result"
    }
   ],
   "source": [
    "# Those weird guys sticking out are from what??\n",
    "dt_bkg = X_test[ y_test < 0.5 ]\n",
    "peal = dt_bkg[ dt_bkg['scores'] > 0.35]\n",
    "\n",
    "#runs = peal.runid.as_matrix()\n",
    "#evts = peal.evtid.as_matrix()\n",
    "#outfile = open('bs_hyperopt_cut05.txt','w')\n",
    "#for i in range(len(runs)):\n",
    "#    outfile.write(str(runs[i])+\" \"+str(evts[i])+\"\\n\")\n",
    "#outfile.close()\n",
    "\n",
    "peal[['evtid','runid','scores','log10(hs_q_tot_pulses)','ndoms_5pe','nstr_2ndway_5pe','hs_cogz','hs_z_travel','rho_travel5','ImpLF_rchi2','cumuAt600ns']]"
   ]
  },
  {
   "cell_type": "code",
   "execution_count": 48,
   "metadata": {
    "collapsed": false
   },
   "outputs": [
    {
     "name": "stdout",
     "output_type": "stream",
     "text": [
      "3.98818014958\n",
      "2.96206752812\n",
      "2.28660525893\n"
     ]
    }
   ],
   "source": [
    "dt_sig = X_test[ y_test > 0.5 ]\n",
    "print sum(dt_sig.wE2) * 365/34.7\n",
    "print sum(dt_sig[ dt_sig.scores > 0.5].wE2) * 365 / 34.7\n",
    "print sum(dt_sig[ (dt_sig.scores > 0.5) & (np.fabs(dt_sig.hs_cogz) < 450)].wE2) * 365 / 34.7"
   ]
  },
  {
   "cell_type": "code",
   "execution_count": 24,
   "metadata": {
    "collapsed": false
   },
   "outputs": [
    {
     "name": "stdout",
     "output_type": "stream",
     "text": [
      "3.82570837033\n",
      "3.04380307444\n"
     ]
    }
   ],
   "source": [
    "dt_sig = X_test[ y_test > 0.5 ]\n",
    "print sum(dt_sig.wE2) * 365/34.7\n",
    "print sum(dt_sig[ np.fabs(dt_sig.hs_cogz) <= 450 ].wE2) * 365/34.7"
   ]
  },
  {
   "cell_type": "code",
   "execution_count": 8,
   "metadata": {
    "collapsed": true
   },
   "outputs": [],
   "source": [
    "# Re-establish sig and bkg from bdt\n",
    "dt_sig = X_test[ y_test > 0.5 ]\n",
    "dt_bkg = X_test[ y_test < 0.5 ]"
   ]
  },
  {
   "cell_type": "code",
   "execution_count": 9,
   "metadata": {
    "collapsed": false
   },
   "outputs": [],
   "source": [
    "# Let's also bring in the  remaining simulation and evaluate the bdt\n",
    "\n",
    "# Grab missing files\n",
    "d_numu = loader.getNuMu()\n",
    "d_cor  = loader.getCorsika()\n",
    "\n",
    "# apply some selection\n",
    "d_numu = qlayerCut(d_numu, False, 0.8)\n",
    "d_cor = qlayerCut(d_cor, False, 0.8)\n",
    "\n",
    "\n",
    "# Apply balloon cut\n",
    "d_numu = balloonCut(d_numu)\n",
    "d_cor  = balloonCut(d_cor)\n",
    "\n",
    "#d_cor = cutcogz(d_cor)\n",
    "\n",
    "# Add the maxDist parameter\n",
    "d_numu['maxDist'] = maxDistMaxDoms(d_numu)\n",
    "d_cor['maxDist'] = maxDistMaxDoms(d_cor)\n",
    "\n",
    "# Drop unnecessary stuff\n",
    "#d_numu = d_numu[ b_features + weights ]\n",
    "#d_cor = d_cor[ b_features + ['w'] ]\n"
   ]
  },
  {
   "cell_type": "code",
   "execution_count": 10,
   "metadata": {
    "collapsed": false
   },
   "outputs": [],
   "source": [
    "# Evaluate for Corsika\n",
    "d_cor = d_cor.dropna()\n",
    "d_cor['scores'] = pd.Series(clf.decision_function( d_cor[b_features] ), index=d_cor.index)\n",
    "\n",
    "# Evaluate for numu\n",
    "d_numu = d_numu.dropna()\n",
    "d_numu['scores'] = pd.Series(clf.decision_function( d_numu[b_features] ), index=d_numu.index)\n",
    "\n",
    "# Get LE nue that hasn't been used\n",
    "d_le_nue = d_le_nue.dropna()\n",
    "d_le_nue['scores'] = pd.Series(clf.decision_function( d_le_nue[b_features] ), index=d_le_nue.index)\n",
    "\n",
    "# Put nue back together\n",
    "dt_nue = pd.concat([d_le_nue, dt_sig])\n",
    "\n",
    "# Combine sim\n",
    "dt_sig_copy = dt_sig.copy()\n",
    "dt_sig_copy['w'] = dt_sig_copy['wE2']\n",
    "d_numu_copy = d_numu.copy()\n",
    "d_numu_copy['w'] = d_numu_copy['wE2']\n",
    "\n",
    "#dt_mc = pd.concat([d_cor, d_nue, dt_sig, d_numu, dt_sig_copy, d_numu_copy])\n",
    "#dt_mc = pd.concat([d_cor, d_nue])\n"
   ]
  },
  {
   "cell_type": "code",
   "execution_count": 11,
   "metadata": {
    "collapsed": true
   },
   "outputs": [],
   "source": [
    "dt_mc = pd.concat([d_cor, dt_nue, d_numu])"
   ]
  },
  {
   "cell_type": "code",
   "execution_count": 12,
   "metadata": {
    "collapsed": false
   },
   "outputs": [],
   "source": [
    "# Build the info\n",
    "info = {'data'     : [dt_bkg, \n",
    "                      dt_mc, \n",
    "                      d_cor, \n",
    "                      dt_nue,\n",
    "                      d_numu,\n",
    "                      dt_nue,\n",
    "                      d_numu\n",
    "                     ],\n",
    "        'names'    : ['Data (50%)',\n",
    "                      'Total Bkg.', \n",
    "                      r'Atmos. $\\mu$',\n",
    "                      r'Atmos. $\\nu_{e}$', \n",
    "                      r'Atmos. $\\nu_{\\mu}$',\n",
    "                      r'Astro. $\\nu_{e}$',\n",
    "                      r'Astro. $\\nu_{\\mu}$'],\n",
    "        'weights' : ['w','w','w','w','w','wE2','wE2'], \n",
    "        'colors'  : ['black', 'r', 'm', 'g', 'b', 'y', 'c'],\n",
    "        'lw'      : [0, 1.5, 1.5, 1.5, 1.5,1.5,1.5],\n",
    "        'ls'      : ['solid','dashed','solid','solid','solid','solid','solid'],\n",
    "        'marker'  : ['.',' ', ' ', ' ', ' ',' ',' ']\n",
    "        }\n"
   ]
  },
  {
   "cell_type": "code",
   "execution_count": 13,
   "metadata": {
    "collapsed": false,
    "scrolled": false
   },
   "outputs": [
    {
     "data": {
      "text/plain": [
       "[<matplotlib.lines.Line2D at 0x7fc86d8be990>]"
      ]
     },
     "execution_count": 13,
     "metadata": {},
     "output_type": "execute_result"
    },
    {
     "data": {
      "image/png": "[encoded data removed]",
      "text/plain": [
       "<matplotlib.figure.Figure at 0x7fc86d94ffd0>"
      ]
     },
     "metadata": {},
     "output_type": "display_data"
    }
   ],
   "source": [
    "# Plot the scores\n",
    "pt.plotStackedRatio(info,'scores','BDT Score', \n",
    "                    50, -1, 1, \n",
    "                    1e-10, True, False, False,\n",
    "                    #\"\",\"Data / Sig+Bkg\"\n",
    "                   )\n",
    "plt.plot([0.5,0.5],[1e-10,1e10],lw=2,ls='dashed',c='black')\n",
    "#plt.savefig('../plots/mvaana/bdts/datamc_bdtscore_300trees_1000Split_depth4_maxfeatSQRT_minsampleaf200_lr01_datatrained_srtupdate.png')\n",
    "#plt.savefig('../plots/mvaana/bdts/datamc_bdtscore_JPSMarch2016.png')"
   ]
  },
  {
   "cell_type": "code",
   "execution_count": 14,
   "metadata": {
    "collapsed": false
   },
   "outputs": [
    {
     "name": "stdout",
     "output_type": "stream",
     "text": [
      "Data (50%) 0.0\n",
      "Total Bkg. 0.715417118111\n",
      "Atmos. $\\mu$ 0.0108412900826\n",
      "Atmos. $\\nu_{e}$ 0.393208236739\n",
      "Atmos. $\\nu_{\\mu}$ 0.311367591289\n",
      "Astro. $\\nu_{e}$ 4.25103289969\n",
      "Astro. $\\nu_{\\mu}$ 1.44978958206\n"
     ]
    }
   ],
   "source": [
    "# Print the rates\n",
    "for i in range(len(info['data'])):\n",
    "    dt = info['data'][i]\n",
    "    name = info['names'][i]\n",
    "    w = info['weights'][i]\n",
    "    print name, sum(dt[ dt.scores > 0.5 ][w]) * 365/34.7"
   ]
  },
  {
   "cell_type": "code",
   "execution_count": null,
   "metadata": {
    "collapsed": true
   },
   "outputs": [],
   "source": []
  },
  {
   "cell_type": "code",
   "execution_count": null,
   "metadata": {
    "collapsed": true
   },
   "outputs": [],
   "source": []
  },
  {
   "cell_type": "code",
   "execution_count": 15,
   "metadata": {
    "collapsed": true
   },
   "outputs": [],
   "source": [
    "# Methods to plot effective area\n",
    "from math import pi,log10\n",
    "\n",
    "xmin  = 3\n",
    "xmax  = 7\n",
    "nbins = 20.\n",
    "#bins = np.arange(3,9.1,0.3)\n",
    "ebins_per_decade = float(nbins/(xmax-xmin))\n",
    "solidangle = 4*pi\n",
    "\n",
    "def mcLogEBin(E):\n",
    "    return int(log10(E)*ebins_per_decade)\n",
    "def mcEMin(mc_log_ebin):\n",
    "    return pow(10,mc_log_ebin/ebins_per_decade)\n",
    "def mcEMax(mc_log_ebin):\n",
    "    return pow(10,(1+mc_log_ebin)/ebins_per_decade)\n",
    "\n",
    "# Calculate effective area\n",
    "def getEffA(data, isbdt, nfiles):\n",
    "    effA = np.zeros(len(data['PrimaryNeutrinoEnergy']),dtype=float)\n",
    "    energy = np.empty(len(data['PrimaryNeutrinoEnergy']),dtype=float)        \n",
    "    fnorm  = 1. / nfiles\n",
    "    \n",
    "    dt_E = data['PrimaryNeutrinoEnergy'].as_matrix()\n",
    "    dt_oneweight = data['OneWeight'].as_matrix()\n",
    "    dt_nevents   = data['NEvents'].as_matrix()\n",
    "    for i in range(len(effA)):\n",
    "\n",
    "        E = dt_E[i]\n",
    "        OneWeight = dt_oneweight[i]\n",
    "        NEvents   = dt_nevents[i]\n",
    "        mclogebin = mcLogEBin(E)\n",
    "        mcemin = mcEMin(mclogebin)\n",
    "        mcemax = mcEMax(mclogebin)\n",
    "        \n",
    "        sf = 1\n",
    "        if isbdt and np.log10(E) >=6:\n",
    "            sf = 1/0.5 # This shouldn't be hard-coded!!!\n",
    "        \n",
    "        \n",
    "        effA[i] = 1e-4 * OneWeight * fnorm/NEvents * 1/(solidangle*(mcemax-mcemin)) * sf\n",
    "        energy[i] = log10(E)\n",
    "\n",
    "    return effA, energy\n",
    "\n",
    "def plotEffA(nrg, effa, col, lbl,ls='solid'):\n",
    "        plt.hist(nrg,\n",
    "                 weights=effa,\n",
    "                 color=col,\n",
    "                 label=lbl,\n",
    "                 range=(xmin,xmax),\n",
    "                 bins = nbins,\n",
    "                 histtype='step',\n",
    "                 lw = 1.5,\n",
    "                ls = ls)\n"
   ]
  },
  {
   "cell_type": "code",
   "execution_count": 16,
   "metadata": {
    "collapsed": false
   },
   "outputs": [
    {
     "name": "stdout",
     "output_type": "stream",
     "text": [
      "4.25103289969\n"
     ]
    },
    {
     "data": {
      "text/plain": [
       "<matplotlib.legend.Legend at 0x7fc86d5e4990>"
      ]
     },
     "execution_count": 16,
     "metadata": {},
     "output_type": "execute_result"
    },
    {
     "data": {
      "image/png": "[encoded data removed]",
      "text/plain": [
       "<matplotlib.figure.Figure at 0x7fc86d5e7650>"
      ]
     },
     "metadata": {},
     "output_type": "display_data"
    }
   ],
   "source": [
    "# Now plot the effective area for nu_e events from HESE\n",
    "# and those passing the new BDT selection\n",
    "\n",
    "# Load the hese data set\n",
    "heseloader = Loader('(passHESE)')\n",
    "dt_hese = heseloader.getNuE()\n",
    "dt_hese_numu = heseloader.getNuMu()\n",
    "\n",
    "# Select off the nue events that pass the bdt cut\n",
    "bdtcut = 0.5\n",
    "nue_pass = dt_nue[ dt_nue['scores'] > bdtcut]\n",
    "numu_pass = d_numu[ d_numu['scores'] > bdtcut ]\n",
    "print sum(nue_pass['wE2']) *365/34.7\n",
    "\n",
    "# Now evaluate effective area\n",
    "new_effa, new_e = getEffA(nue_pass, True, C.nugen_nue_12034_nfiles)\n",
    "hese_effa, hese_e = getEffA(dt_hese, False, C.nugen_nue_12034_nfiles)\n",
    "hesenumu_effa, hesenumu_e = getEffA(dt_hese_numu, False, C.nugen_henumu_nfiles)\n",
    "numu_effa, numu_e = getEffA(numu_pass, False, C.nugen_henumu_nfiles)\n",
    "\n",
    "# Now plot\n",
    "fig,ax = plt.subplots(figsize=(7,6))\n",
    "plotEffA(new_e, new_effa, 'r', r'Uncontained $\\nu_{e}$')\n",
    "plotEffA(hese_e, hese_effa, 'b', r'HESE $\\nu_{e}$')\n",
    "plotEffA(np.concatenate([new_e, hese_e]),\n",
    "         np.concatenate([new_effa, hese_effa]),\n",
    "         'black', r'Total $\\nu_{e}$','dashed')\n",
    "\n",
    "plotEffA(numu_e, numu_effa, 'm', r'Uncontained $\\nu_{\\mu}$')\n",
    "plotEffA(hesenumu_e, hesenumu_effa, 'c', r'HESE $\\nu_{\\mu}$')\n",
    "plotEffA(np.concatenate([numu_e, hesenumu_e]),\n",
    "         np.concatenate([numu_effa, hesenumu_effa]),\n",
    "         'y', r'Total $\\nu_{\\mu}$','dashed')\n",
    "\n",
    "\n",
    "ax.set_ylim([1e0,1e3])\n",
    "ax.set_xlim([4,7])\n",
    "ax.set_yscale('log')\n",
    "plt.xlabel(r'log$_{10}$(E$^{\\nu}$/GeV)')\n",
    "plt.ylabel(r'Effective Area [m$^{2}$]')\n",
    "plt.grid()\n",
    "plt.legend(loc='upper left')\n",
    "#plt.savefig('../plots/mvaana/EffectiveArea/effa_cut08_500trees_50kSplit_depth3_datatrained.png')\n",
    "#plt.savefig('../plots/mvaana/EffectiveArea/effa_cut06_500trees_30kSplit_depth2_datatrained.png')\n",
    "#plt.savefig('../plots/temp_jps/EffectiveArea_Unct_HESE.png')"
   ]
  },
  {
   "cell_type": "code",
   "execution_count": 17,
   "metadata": {
    "collapsed": false
   },
   "outputs": [],
   "source": [
    "# Save the effective area output in a pkl file to analyze later\n",
    "def histthat(energy, effa):\n",
    "    global nbins, xmin, xmax\n",
    "    heffa, ebins = np.histogram(energy, \n",
    "                                weights=effa,\n",
    "                                bins=nbins,\n",
    "                                range=(xmin,xmax))\n",
    "    ecenter = (ebins[:-1]+ebins[1:])/2.\n",
    "    return heffa, ebins, ecenter\n",
    "\n",
    "# Get summary results for 4 cases\n",
    "e_unct = histthat(new_e, new_effa)\n",
    "e_hese = histthat(hese_e, hese_effa)\n",
    "mu_unct = histthat(numu_e, numu_effa)\n",
    "mu_hese = histthat(hesenumu_e, hesenumu_effa)\n",
    "\n",
    "stuff = {'e_effa_unct' : e_unct[0], 'e_bins_unct' : e_unct[1], 'e_cent_unct' : e_unct[2],\n",
    "         'e_effa_hese' : e_hese[0], 'e_bins_hese' : e_hese[1], 'e_cent_hese' : e_hese[2],\n",
    "         'mu_effa_unct' : mu_unct[0], 'mu_bins_unct' : mu_unct[1], 'mu_cent_unct' : mu_unct[2],\n",
    "         'mu_effa_hese' : mu_hese[0], 'mu_bins_hese' : mu_hese[1], 'mu_cent_hese' : mu_hese[2]\n",
    "         }\n",
    "\n",
    "import pickle\n",
    "pickle.dump(stuff, open('Uncontained_HESE_effa_Mar23.pkl','w'))"
   ]
  },
  {
   "cell_type": "code",
   "execution_count": null,
   "metadata": {
    "collapsed": true
   },
   "outputs": [],
   "source": []
  }
 ],
 "metadata": {
  "kernelspec": {
   "display_name": "Python 2",
   "language": "python",
   "name": "python2"
  },
  "language_info": {
   "codemirror_mode": {
    "name": "ipython",
    "version": 2
   },
   "file_extension": ".py",
   "mimetype": "text/x-python",
   "name": "python",
   "nbconvert_exporter": "python",
   "pygments_lexer": "ipython2",
   "version": "2.7.6"
  }
 },
 "nbformat": 4,
 "nbformat_minor": 0
}
