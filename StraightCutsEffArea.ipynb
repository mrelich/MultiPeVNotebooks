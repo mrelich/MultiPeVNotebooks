{
 "cells": [
  {
   "cell_type": "code",
   "execution_count": 1,
   "metadata": {
    "collapsed": true
   },
   "outputs": [],
   "source": [
    "%matplotlib inline\n",
    "\n",
    "import numpy as np\n",
    "import pandas as pd\n",
    "import matplotlib.pyplot as plt\n",
    "from root_numpy import root2array\n",
    "import Constants as C\n",
    "from WeightTool import WeightTool\n",
    "from matplotlib.colors import LogNorm\n",
    "\n",
    "from PlotTool import PlotTool\n",
    "from Cuts import qratio, getQAB, qlayerCut"
   ]
  },
  {
   "cell_type": "code",
   "execution_count": 6,
   "metadata": {
    "collapsed": false
   },
   "outputs": [],
   "source": [
    "# Load the data and apply selection\n",
    "\n",
    "# Specify file paths\n",
    "f_nue   = '../trees/NuGen_11068_Dec7_600files.root'\n",
    "\n",
    "# Specify branches to load\n",
    "branches = ['NPE','Nch','ImpLF_zen','ImpLF_rchi2', \n",
    "            'nuE','NEvents','OneWeight',\n",
    "            'passHESE','q_out0','q_out1','q_out2','q_in',\n",
    "            'hs_z_travel',\n",
    "            'log10(hs_q_tot_pulses)', 'hm_nhit_doms','hm_nhit_strings',\n",
    "            'hm_nhit_doms/hm_nhit_strings', 'log10(hs_q_tot_pulses)/hm_nhit_doms',\n",
    "            'StrNearly5[0]',\n",
    "             'rho_travel',\n",
    "            'tlarge - tearly',\n",
    "            'PrimaryNeutrinoEnergy'\n",
    "            ]\n",
    "\n",
    "# Put easy selection here\n",
    "sel = '(!passHESE && NPE > 1000 && hm_nhit_doms>50 && hs_z_travel > -100 && hs_z_travel < 100 && rho_travel < 250 && nuE > 0)'\n",
    "sel += '&&(tlarge - tearly < 200 && log10(hs_q_tot_pulses) >= 4.6)'\n",
    "dt_new  = root2array(f_nue, treename=\"tree\", branches=branches, selection=sel)\n",
    "dt_hese = root2array(f_nue, treename=\"tree\", branches=branches, selection='(passHESE && nuE>0)')\n",
    "\n",
    "# Apply q-layer cut\n",
    "dt_new = qlayerCut(dt_new, False, 0.8)\n",
    "\n",
    "# Get weights\n",
    "w_tool = WeightTool()\n",
    "w_new  = w_tool.getAstroW(dt_new['nuE'], dt_new['OneWeight'], dt_new['NEvents'], C.nugen_nue_nfiles)\n",
    "w_hese = w_tool.getAstroW(dt_hese['nuE'], dt_hese['OneWeight'], dt_hese['NEvents'], C.nugen_nue_nfiles)\n",
    "\n",
    "# Put into pandas object\n",
    "dt_new = pd.DataFrame(dt_new)\n",
    "dt_hese = pd.DataFrame(dt_hese)\n",
    "\n",
    "# Add weights\n",
    "dt_new['w'] = pd.Series(w_new)\n",
    "dt_hese['w'] = pd.Series(w_hese)\n",
    "\n",
    "# Put the first hit into the frame\n",
    "strings = [1,2,3,4,5,6,\n",
    "           13,21,30,40,50,\n",
    "           59,67,74,\n",
    "           73,72,\n",
    "           78,77,76,75,\n",
    "           68,60,51,41,31,\n",
    "           22,14,7]\n",
    "def addfirsthit(data):\n",
    "    data['firsthitout'] = pd.Series( data['StrNearly5[0]'].apply(lambda x: x in strings),\n",
    "                                    index = data.index)\n",
    "    return data[ data['firsthitout'] > 0.5]\n",
    "    \n",
    "dt_new = addfirsthit(dt_new)\n"
   ]
  },
  {
   "cell_type": "code",
   "execution_count": 7,
   "metadata": {
    "collapsed": false
   },
   "outputs": [
    {
     "name": "stdout",
     "output_type": "stream",
     "text": [
      "New selection:  1.26755139199\n",
      "HESE:           3.61884487194\n",
      "PeV New:        0.105868033196\n"
     ]
    }
   ],
   "source": [
    "# Check that the yields look ok\n",
    "print \"New selection: \", sum(dt_new['w']) * 365/34.7\n",
    "print \"HESE:          \", sum(dt_hese['w']) * 365/34.7\n",
    "print \"PeV New:       \", sum(dt_new[ dt_new['nuE'] > 1000000]['w'])\n"
   ]
  },
  {
   "cell_type": "code",
   "execution_count": 10,
   "metadata": {
    "collapsed": false
   },
   "outputs": [],
   "source": [
    "# Methods to plot effective area\n",
    "from math import pi,log10\n",
    "\n",
    "xmin  = 3\n",
    "xmax  = 7\n",
    "nbins = 20.\n",
    "bins = np.arange(3,9.1,0.3)\n",
    "ebins_per_decade = float(nbins/(xmax-xmin))\n",
    "solidangle = 4*pi\n",
    "\n",
    "def mcLogEBin(E):\n",
    "    return int(log10(E)*ebins_per_decade)\n",
    "def mcEMin(mc_log_ebin):\n",
    "    return pow(10,mc_log_ebin/ebins_per_decade)\n",
    "def mcEMax(mc_log_ebin):\n",
    "    return pow(10,(1+mc_log_ebin)/ebins_per_decade)\n",
    "\n",
    "# Calculate effective area\n",
    "def getEffA(data):\n",
    "    effA = np.zeros(len(data['PrimaryNeutrinoEnergy']),dtype=float)\n",
    "    energy = np.empty(len(data['PrimaryNeutrinoEnergy']),dtype=float)        \n",
    "    fnorm  = 1. / (C.nugen_nue_nfiles)\n",
    "    \n",
    "    dt_E = data['PrimaryNeutrinoEnergy'].as_matrix()\n",
    "    dt_oneweight = data['OneWeight'].as_matrix()\n",
    "    dt_nevents   = data['NEvents'].as_matrix()\n",
    "    for i in range(len(effA)):\n",
    "\n",
    "        E = dt_E[i]\n",
    "        OneWeight = dt_oneweight[i]\n",
    "        NEvents   = dt_nevents[i]\n",
    "        mclogebin = mcLogEBin(E)\n",
    "        mcemin = mcEMin(mclogebin)\n",
    "        mcemax = mcEMax(mclogebin)\n",
    "        \n",
    "        effA[i] = 1e-4 * OneWeight * fnorm/NEvents * 1/(solidangle*(mcemax-mcemin))\n",
    "        energy[i] = log10(E)\n",
    "\n",
    "    return effA, energy\n",
    "\n",
    "def plotEffA(nrg, effa, col, lbl,ls='solid'):\n",
    "        plt.hist(nrg,\n",
    "                 weights=effa,\n",
    "                 color=col,\n",
    "                 label=lbl,\n",
    "                 range=(xmin,xmax),\n",
    "                 bins = nbins,\n",
    "                 histtype='step',\n",
    "                 lw = 1.5,\n",
    "                ls = ls)\n"
   ]
  },
  {
   "cell_type": "code",
   "execution_count": 11,
   "metadata": {
    "collapsed": false
   },
   "outputs": [
    {
     "data": {
      "image/png": "[encoded data removed]",
      "text/plain": [
       "<matplotlib.figure.Figure at 0x7f9634c5c710>"
      ]
     },
     "metadata": {},
     "output_type": "display_data"
    }
   ],
   "source": [
    "# Now plot the effective area\n",
    "effA_new, e_new = getEffA(dt_new)\n",
    "effA_hese, e_hese = getEffA(dt_hese)\n",
    "\n",
    "fig, ax = plt.subplots(ncols=1,figsize=(7,6))\n",
    "plotEffA(e_new, effA_new, 'r','New Selection')\n",
    "plotEffA(e_hese,effA_hese,'black','HESE')\n",
    "plotEffA(np.concatenate([e_hese,e_new]), \n",
    "         np.concatenate([effA_hese, effA_new]), \n",
    "         'm', \"Total\", 'dashed')\n",
    "\n",
    "ax.set_ylim([1e-2,1e3])\n",
    "ax.set_yscale('log')\n",
    "plt.xlabel(r'log$_{10}$(E$^{\\nu}$/GeV)')\n",
    "plt.ylabel(r'Effective Area [m$^{2}$]')\n",
    "plt.grid()\n",
    "\n",
    "plt.legend(loc='upper left')\n",
    "plt.savefig('../plots/cutsana/EffectiveArea/firstpasssel.png')\n",
    "\n"
   ]
  },
  {
   "cell_type": "code",
   "execution_count": null,
   "metadata": {
    "collapsed": true
   },
   "outputs": [],
   "source": []
  }
 ],
 "metadata": {
  "kernelspec": {
   "display_name": "Python 2",
   "language": "python",
   "name": "python2"
  },
  "language_info": {
   "codemirror_mode": {
    "name": "ipython",
    "version": 2
   },
   "file_extension": ".py",
   "mimetype": "text/x-python",
   "name": "python",
   "nbconvert_exporter": "python",
   "pygments_lexer": "ipython2",
   "version": "2.7.6"
  }
 },
 "nbformat": 4,
 "nbformat_minor": 0
}
