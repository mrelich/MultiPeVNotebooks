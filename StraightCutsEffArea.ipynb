{
 "cells": [
  {
   "cell_type": "code",
   "execution_count": 4,
   "metadata": {
    "collapsed": true
   },
   "outputs": [],
   "source": [
    "%matplotlib inline\n",
    "\n",
    "import numpy as np\n",
    "import pandas as pd\n",
    "import matplotlib.pyplot as plt\n",
    "from root_numpy import root2array\n",
    "import Constants as C\n",
    "from WeightTool import WeightTool\n",
    "from matplotlib.colors import LogNorm\n",
    "\n",
    "from PlotTool import PlotTool\n",
    "from Cuts import qratio, getQAB, qlayerCut, maxDistMaxDoms, firstHitInOuter\n",
    "from Loader import Loader"
   ]
  },
  {
   "cell_type": "code",
   "execution_count": 2,
   "metadata": {
    "collapsed": false
   },
   "outputs": [],
   "source": [
    "# Load the data \n",
    "\n",
    "nload = Loader(C.basesel)\n",
    "hload = Loader('passHESE')\n",
    "\n",
    "dt_new = nload.getNuE()\n",
    "dt_hese = hload.getNuE()\n"
   ]
  },
  {
   "cell_type": "code",
   "execution_count": 5,
   "metadata": {
    "collapsed": false
   },
   "outputs": [],
   "source": [
    "# Apply q-layer cut\n",
    "dt_new = qlayerCut(dt_new, False, 0.8)\n",
    "\n",
    "# Cut on the first hit \n",
    "dt_new = firstHitInOuter(dt_new)\n",
    "\n",
    "# Cut on rho travel\n",
    "dt_new = dt_new[ dt_new['rho_travel'] < 500]\n",
    "\n",
    "# Cut on z-travel\n",
    "dt_new = dt_new[ (-500 < dt_new['hs_z_travel']) & (dt_new['hs_z_travel'] < 100) ]\n",
    "\n",
    "# Cut on timing\n",
    "dt_new = dt_new[ dt_new['tlarge5[0]-tearly5[0]'] < 2000 ]\n"
   ]
  },
  {
   "cell_type": "code",
   "execution_count": null,
   "metadata": {
    "collapsed": false
   },
   "outputs": [],
   "source": [
    "# Check that the yields look ok\n",
    "print \"New selection: \", sum(dt_new['wE2']) * 365/34.7\n",
    "print \"HESE:          \", sum(dt_hese['wE2']) * 365/34.7\n",
    "print \"PeV New:       \", sum(dt_new[ dt_new['PrimaryNeutrinoEnergy'] > 1000000]['wE2']) * 365/34.7\n"
   ]
  },
  {
   "cell_type": "code",
   "execution_count": 7,
   "metadata": {
    "collapsed": false
   },
   "outputs": [],
   "source": [
    "# Methods to plot effective area\n",
    "from math import pi,log10\n",
    "\n",
    "xmin  = 3\n",
    "xmax  = 7\n",
    "nbins = 20.\n",
    "bins = np.arange(3,9.1,0.3)\n",
    "ebins_per_decade = float(nbins/(xmax-xmin))\n",
    "solidangle = 4*pi\n",
    "\n",
    "def mcLogEBin(E):\n",
    "    return int(log10(E)*ebins_per_decade)\n",
    "def mcEMin(mc_log_ebin):\n",
    "    return pow(10,mc_log_ebin/ebins_per_decade)\n",
    "def mcEMax(mc_log_ebin):\n",
    "    return pow(10,(1+mc_log_ebin)/ebins_per_decade)\n",
    "\n",
    "# Calculate effective area\n",
    "def getEffA(data):\n",
    "    effA = np.zeros(len(data['PrimaryNeutrinoEnergy']),dtype=float)\n",
    "    energy = np.empty(len(data['PrimaryNeutrinoEnergy']),dtype=float)        \n",
    "    fnorm  = 1. / (C.nugen_nue_nfiles)\n",
    "    \n",
    "    dt_E = data['PrimaryNeutrinoEnergy'].as_matrix()\n",
    "    dt_oneweight = data['OneWeight'].as_matrix()\n",
    "    dt_nevents   = data['NEvents'].as_matrix()\n",
    "    for i in range(len(effA)):\n",
    "\n",
    "        E = dt_E[i]\n",
    "        OneWeight = dt_oneweight[i]\n",
    "        NEvents   = dt_nevents[i]\n",
    "        mclogebin = mcLogEBin(E)\n",
    "        mcemin = mcEMin(mclogebin)\n",
    "        mcemax = mcEMax(mclogebin)\n",
    "        \n",
    "        effA[i] = 1e-4 * OneWeight * fnorm/NEvents * 1/(solidangle*(mcemax-mcemin))\n",
    "        energy[i] = log10(E)\n",
    "\n",
    "    return effA, energy\n",
    "\n",
    "def plotEffA(nrg, effa, col, lbl,ls='solid'):\n",
    "        plt.hist(nrg,\n",
    "                 weights=effa,\n",
    "                 color=col,\n",
    "                 label=lbl,\n",
    "                 range=(xmin,xmax),\n",
    "                 bins = nbins,\n",
    "                 histtype='step',\n",
    "                 lw = 1.5,\n",
    "                ls = ls)\n"
   ]
  },
  {
   "cell_type": "code",
   "execution_count": 9,
   "metadata": {
    "collapsed": false
   },
   "outputs": [
    {
     "data": {
      "text/plain": [
       "<matplotlib.legend.Legend at 0x7faab3a93c90>"
      ]
     },
     "execution_count": 9,
     "metadata": {},
     "output_type": "execute_result"
    },
    {
     "data": {
      "image/png": "[encoded data removed]",
      "text/plain": [
       "<matplotlib.figure.Figure at 0x7faab3a78150>"
      ]
     },
     "metadata": {},
     "output_type": "display_data"
    }
   ],
   "source": [
    "# Now plot the effective area\n",
    "effA_new, e_new = getEffA(dt_new[ dt_new['log10(hs_q_tot_pulses)'] >= 5])\n",
    "effA_hese, e_hese = getEffA(dt_hese)\n",
    "\n",
    "fig, ax = plt.subplots(ncols=1,figsize=(7,6))\n",
    "plotEffA(e_new, effA_new, 'r','New Selection')\n",
    "plotEffA(e_hese,effA_hese,'black','HESE')\n",
    "plotEffA(np.concatenate([e_hese,e_new]), \n",
    "         np.concatenate([effA_hese, effA_new]), \n",
    "         'm', \"Total\", 'dashed')\n",
    "\n",
    "ax.set_ylim([1e-2,1e3])\n",
    "ax.set_yscale('log')\n",
    "plt.xlabel(r'log$_{10}$(E$^{\\nu}$/GeV)')\n",
    "plt.ylabel(r'Effective Area [m$^{2}$]')\n",
    "plt.grid()\n",
    "\n",
    "plt.legend(loc='upper left')\n",
    "#plt.savefig('../plots/cutsana/EffectiveArea/firstpasssel.png')\n",
    "\n"
   ]
  },
  {
   "cell_type": "code",
   "execution_count": null,
   "metadata": {
    "collapsed": true
   },
   "outputs": [],
   "source": []
  }
 ],
 "metadata": {
  "kernelspec": {
   "display_name": "Python 2",
   "language": "python",
   "name": "python2"
  },
  "language_info": {
   "codemirror_mode": {
    "name": "ipython",
    "version": 2
   },
   "file_extension": ".py",
   "mimetype": "text/x-python",
   "name": "python",
   "nbconvert_exporter": "python",
   "pygments_lexer": "ipython2",
   "version": "2.7.6"
  }
 },
 "nbformat": 4,
 "nbformat_minor": 0
}
