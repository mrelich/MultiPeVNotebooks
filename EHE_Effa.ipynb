{
 "cells": [
  {
   "cell_type": "code",
   "execution_count": 1,
   "metadata": {
    "collapsed": true
   },
   "outputs": [],
   "source": [
    "%matplotlib inline\n",
    "\n",
    "import numpy as np\n",
    "import pandas as pd\n",
    "import matplotlib.pyplot as plt\n",
    "from root_numpy import root2array\n",
    "import Constants as C\n",
    "from WeightTool import WeightTool\n",
    "from matplotlib.colors import LogNorm\n",
    "from Loader import Loader\n",
    "\n",
    "from PlotTool import PlotTool\n",
    "from Cuts import qratio, getQAB, qlayerCut\n",
    "\n",
    "savedir = '../plots/ehealert_updatedbaseline/'"
   ]
  },
  {
   "cell_type": "code",
   "execution_count": 2,
   "metadata": {
    "collapsed": true
   },
   "outputs": [],
   "source": [
    "# Load the data\n",
    "L3 = C.basesel + '&&(ndoms_5pe > 120 && hs_q_tot_pulses > 3000 && ImpLF_rchi2 < 80)'\n",
    "loader = Loader(L3)\n",
    "\n",
    "# Instead of leading numu datasets together, keep them \n",
    "# separate. This is because when making the effective area\n",
    "# plot we have to divide by the file normalizations to get\n",
    "# the correct effective area.\n",
    "he_numu = loader.getNuMuHE()\n",
    "le_numu = loader.getNuMuLE()"
   ]
  },
  {
   "cell_type": "code",
   "execution_count": 3,
   "metadata": {
    "collapsed": true
   },
   "outputs": [],
   "source": [
    "# Apply the signal region cuts\n",
    "xval = 'cos(ImpLF_zen)'\n",
    "yval = 'log10(hs_q_tot_pulses)'\n",
    "def getdata(dt, threshold, a, b):\n",
    "    y = dt[yval]\n",
    "    x = dt[xval]\n",
    "    down = (x >= 0.1) & (y >= threshold + b * np.sqrt(1-np.power((x-a-0.1)/a,2)))\n",
    "    up   = (x<0.1) & (y >= threshold)\n",
    "    return dt[ down | up]"
   ]
  },
  {
   "cell_type": "code",
   "execution_count": 13,
   "metadata": {
    "collapsed": true
   },
   "outputs": [],
   "source": [
    "he_sig_numu = getdata(he_numu, 3.6, 0.83, 2.99)\n",
    "le_sig_numu = getdata(le_numu, 3.6, 0.83, 2.99)"
   ]
  },
  {
   "cell_type": "code",
   "execution_count": 23,
   "metadata": {
    "collapsed": true
   },
   "outputs": [],
   "source": [
    "# Methods to plot effective area\n",
    "from math import pi,log10\n",
    "\n",
    "xmin  = 3\n",
    "xmax  = 7\n",
    "nbins = 20\n",
    "ebins_per_decade = float(nbins/(xmax-xmin))\n",
    "solidangle = 4*pi\n",
    "\n",
    "def mcLogEBin(E):\n",
    "    return int(log10(E)*ebins_per_decade)\n",
    "def mcEMin(mc_log_ebin):\n",
    "    return pow(10,mc_log_ebin/ebins_per_decade)\n",
    "def mcEMax(mc_log_ebin):\n",
    "    return pow(10,(1+mc_log_ebin)/ebins_per_decade)\n",
    "\n",
    "# Calculate effective area\n",
    "def getEffA(data, nfiles):\n",
    "    effA = np.zeros(len(data['PrimaryNeutrinoEnergy']),dtype=float)\n",
    "    energy = np.empty(len(data['PrimaryNeutrinoEnergy']),dtype=float)        \n",
    "    fnorm  = 1. / nfiles\n",
    "    \n",
    "    dt_E = data['PrimaryNeutrinoEnergy'].as_matrix()\n",
    "    dt_oneweight = data['OneWeight'].as_matrix()\n",
    "    dt_nevents   = data['NEvents'].as_matrix()\n",
    "    for i in range(len(effA)):\n",
    "\n",
    "        E = dt_E[i]\n",
    "        OneWeight = dt_oneweight[i]\n",
    "        NEvents   = dt_nevents[i]\n",
    "        mclogebin = mcLogEBin(E)\n",
    "        mcemin = mcEMin(mclogebin)\n",
    "        mcemax = mcEMax(mclogebin)\n",
    "        \n",
    "        effA[i] = 1e-4 * OneWeight * fnorm/NEvents * 1/(solidangle*(mcemax-mcemin))\n",
    "        energy[i] = log10(E)\n",
    "\n",
    "    return effA, energy\n",
    "\n",
    "def plotEffA(nrg, effa, col, lbl,ls='solid'):\n",
    "        plt.hist(nrg,\n",
    "                 weights=effa,\n",
    "                 color=col,\n",
    "                 label=lbl,\n",
    "                 range=(xmin,xmax),\n",
    "                 bins = nbins,\n",
    "                 histtype='step',\n",
    "                 lw = 1.5,\n",
    "                 ls = ls)"
   ]
  },
  {
   "cell_type": "code",
   "execution_count": 24,
   "metadata": {
    "collapsed": false
   },
   "outputs": [
    {
     "name": "stdout",
     "output_type": "stream",
     "text": [
      "3.92823356064\n"
     ]
    },
    {
     "data": {
      "text/plain": [
       "<matplotlib.legend.Legend at 0x7f05ff47fe50>"
      ]
     },
     "execution_count": 24,
     "metadata": {},
     "output_type": "execute_result"
    },
    {
     "data": {
      "image/png": "[encoded data removed]",
      "text/plain": [
       "<matplotlib.figure.Figure at 0x7f05ff1eca90>"
      ]
     },
     "metadata": {},
     "output_type": "display_data"
    }
   ],
   "source": [
    "# Now plot the effective area for nu_e events from HESE\n",
    "# and those passing the new BDT selection\n",
    "\n",
    "# Get EFFA for high and low energy\n",
    "he_effa, he_e = getEffA(he_sig_numu, C.nugen_henumu_nfiles)\n",
    "le_effa, le_e = getEffA(le_sig_numu, C.nugen_numu_nfiles)\n",
    "tot_effa = np.concatenate([he_effa,le_effa])\n",
    "tot_e = np.concatenate([he_e,le_e])\n",
    "\n",
    "print sum(he_sig_numu.wE2)*365/34.7 + sum(le_sig_numu.wE2)*365/34.7\n",
    "\n",
    "# Now plot\n",
    "fig,ax = plt.subplots(figsize=(7,6))\n",
    "plotEffA(tot_e, tot_effa, 'r', r'Asto. $\\nu_{\\mu}$')\n",
    "\n",
    "\n",
    "ax.set_ylim([1e0,2e3])\n",
    "ax.set_xlim([4,9])\n",
    "ax.set_yscale('log')\n",
    "plt.xlabel(r'log$_{10}$(E$^{\\nu}$/GeV)')\n",
    "plt.ylabel(r'Effective Area [m$^{2}$]')\n",
    "plt.grid()\n",
    "plt.legend(loc='upper left')\n",
    "\n",
    "#plt.savefig(savedir+'/EffectiveArea_numu.png')"
   ]
  },
  {
   "cell_type": "code",
   "execution_count": 27,
   "metadata": {
    "collapsed": false
   },
   "outputs": [
    {
     "name": "stdout",
     "output_type": "stream",
     "text": [
      "[  0.00000000e+00   0.00000000e+00   0.00000000e+00   0.00000000e+00\n",
      "   0.00000000e+00   0.00000000e+00   0.00000000e+00   0.00000000e+00\n",
      "   5.23798374e-03   7.06237428e-02   3.39584413e-01   1.42635542e+00\n",
      "   3.95221971e+00   8.51373023e+00   1.59432900e+01   2.77194041e+01\n",
      "   4.17942582e+01   6.11100136e+01   8.78510223e+01   1.24896864e+02]\n",
      "[ 3.1  3.3  3.5  3.7  3.9  4.1  4.3  4.5  4.7  4.9  5.1  5.3  5.5  5.7  5.9\n",
      "  6.1  6.3  6.5  6.7  6.9]\n"
     ]
    }
   ],
   "source": [
    "# Save the effective area output in a pkl file to analyze later\n",
    "h_effa, e_bins = np.histogram(tot_e, \n",
    "                              weights=tot_effa,\n",
    "                              bins=nbins,\n",
    "                              range=(xmin,xmax))\n",
    "\n",
    "e_center = (e_bins[:-1]+e_bins[1:])/2.\n",
    "print h_effa\n",
    "print e_center\n",
    "\n",
    "stuff = {'mu_effa_ehealert'   : h_effa,\n",
    "         'mu_bins_ehealert'   : e_bins,\n",
    "         'mu_cent_ehealert'   : e_center}\n",
    "\n",
    "import pickle\n",
    "pickle.dump(stuff, open('ehealert_numu_effa_Mar23.pkl','w'))"
   ]
  },
  {
   "cell_type": "code",
   "execution_count": null,
   "metadata": {
    "collapsed": true
   },
   "outputs": [],
   "source": []
  }
 ],
 "metadata": {
  "kernelspec": {
   "display_name": "Python 2",
   "language": "python",
   "name": "python2"
  },
  "language_info": {
   "codemirror_mode": {
    "name": "ipython",
    "version": 2
   },
   "file_extension": ".py",
   "mimetype": "text/x-python",
   "name": "python",
   "nbconvert_exporter": "python",
   "pygments_lexer": "ipython2",
   "version": "2.7.6"
  }
 },
 "nbformat": 4,
 "nbformat_minor": 0
}
