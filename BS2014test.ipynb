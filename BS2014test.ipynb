{
 "cells": [
  {
   "cell_type": "code",
   "execution_count": 1,
   "metadata": {
    "collapsed": true
   },
   "outputs": [],
   "source": [
    "%matplotlib inline\n",
    "\n",
    "import pandas as pd\n",
    "import numpy as np\n",
    "from sklearn.externals import joblib\n",
    "from sklearn.tree import DecisionTreeClassifier\n",
    "from sklearn.ensemble import AdaBoostClassifier\n",
    "\n",
    "from Loader import Loader\n",
    "import Constants as C\n",
    "from Cuts import qlayerCut, firstHitInOuter, maxDistMaxDoms, balloonCut"
   ]
  },
  {
   "cell_type": "code",
   "execution_count": 10,
   "metadata": {
    "collapsed": true
   },
   "outputs": [],
   "source": [
    "# Load the 2014 burn sample\n",
    "basesel = C.basesel\n",
    "basesel += '&&(ImpLF_rchi2>80&&tlarge5[0]-tearly5[0] < 200)'\n",
    "\n",
    "load = Loader(basesel)\n",
    "data = load.load(fname=C.BS2014)\n",
    "data = qlayerCut(data,False,0.8)\n",
    "data = balloonCut(data)\n",
    "data['maxDist'] = maxDistMaxDoms(data)"
   ]
  },
  {
   "cell_type": "code",
   "execution_count": 12,
   "metadata": {
    "collapsed": true
   },
   "outputs": [],
   "source": [
    "# Add weights\n",
    "data['w'] = pd.Series(np.ones(len(data),dtype=int),index=data.index)"
   ]
  },
  {
   "cell_type": "code",
   "execution_count": 13,
   "metadata": {
    "collapsed": true
   },
   "outputs": [],
   "source": [
    "# Set the features to be used in training\n",
    "b_features = C.bdt_features\n"
   ]
  },
  {
   "cell_type": "code",
   "execution_count": 14,
   "metadata": {
    "collapsed": false
   },
   "outputs": [],
   "source": [
    "# Load the model\n",
    "clf = joblib.load('../models/bdt_hyperparamopt_cleaningupdate.pkl')"
   ]
  },
  {
   "cell_type": "code",
   "execution_count": 6,
   "metadata": {
    "collapsed": true
   },
   "outputs": [],
   "source": [
    "#data = data[ data.hs_cogz > - 450 ]"
   ]
  },
  {
   "cell_type": "code",
   "execution_count": 15,
   "metadata": {
    "collapsed": true
   },
   "outputs": [],
   "source": [
    "# score the data\n",
    "data['scores'] = pd.Series(clf.decision_function(data[b_features]),index=data.index)"
   ]
  },
  {
   "cell_type": "code",
   "execution_count": 16,
   "metadata": {
    "collapsed": false
   },
   "outputs": [
    {
     "data": {
      "image/png": "[encoded data removed]",
      "text/plain": [
       "<matplotlib.figure.Figure at 0x7f16fc4d6e10>"
      ]
     },
     "metadata": {},
     "output_type": "display_data"
    }
   ],
   "source": [
    "import matplotlib.pyplot as plt\n",
    "fig, ax = plt.subplots(ncols=1,figsize=(7,6))\n",
    "data.scores.hist(weights=data['w'].as_matrix(),\n",
    "                range=(-1,1),\n",
    "                bins=50,\n",
    "                histtype='step',\n",
    "                lw=1.5)\n",
    "plt.plot([0.5,0.5],[1e-2,1e4],lw=2,color='black',ls='dashed')\n",
    "plt.xlabel('bdt score')\n",
    "plt.ylabel('Events / 31.5 days / bin')\n",
    "ax.set_yscale('log')\n",
    "plt.tight_layout()\n",
    "#plt.savefig('../plots/mvaana_ballooncuts/bs2014/bdtscore.png')\n"
   ]
  },
  {
   "cell_type": "code",
   "execution_count": 22,
   "metadata": {
    "collapsed": false
   },
   "outputs": [
    {
     "data": {
      "text/html": [
       "<div>\n",
       "<table border=\"1\" class=\"dataframe\">\n",
       "  <thead>\n",
       "    <tr style=\"text-align: right;\">\n",
       "      <th></th>\n",
       "      <th>runid</th>\n",
       "      <th>evtid</th>\n",
       "      <th>log10(hs_q_tot_pulses)</th>\n",
       "      <th>scores</th>\n",
       "      <th>hs_cogz</th>\n",
       "      <th>hs_z_travel</th>\n",
       "      <th>rho_travel5</th>\n",
       "      <th>ndoms_5pe</th>\n",
       "      <th>nstr_2ndway_5pe</th>\n",
       "      <th>cumuAt600ns</th>\n",
       "    </tr>\n",
       "  </thead>\n",
       "  <tbody>\n",
       "    <tr>\n",
       "      <th>36644</th>\n",
       "      <td>123270</td>\n",
       "      <td>39890447</td>\n",
       "      <td>4.293756</td>\n",
       "      <td>0.592957</td>\n",
       "      <td>-448.584997</td>\n",
       "      <td>2.927300</td>\n",
       "      <td>190.000540</td>\n",
       "      <td>152</td>\n",
       "      <td>18</td>\n",
       "      <td>0.808098</td>\n",
       "    </tr>\n",
       "    <tr>\n",
       "      <th>91194</th>\n",
       "      <td>125220</td>\n",
       "      <td>59431277</td>\n",
       "      <td>3.682808</td>\n",
       "      <td>0.515526</td>\n",
       "      <td>-3.145021</td>\n",
       "      <td>42.733214</td>\n",
       "      <td>70.619877</td>\n",
       "      <td>29</td>\n",
       "      <td>4</td>\n",
       "      <td>0.957967</td>\n",
       "    </tr>\n",
       "  </tbody>\n",
       "</table>\n",
       "</div>"
      ],
      "text/plain": [
       "        runid     evtid  log10(hs_q_tot_pulses)    scores     hs_cogz  \\\n",
       "36644  123270  39890447                4.293756  0.592957 -448.584997   \n",
       "91194  125220  59431277                3.682808  0.515526   -3.145021   \n",
       "\n",
       "       hs_z_travel  rho_travel5  ndoms_5pe  nstr_2ndway_5pe  cumuAt600ns  \n",
       "36644     2.927300   190.000540        152               18     0.808098  \n",
       "91194    42.733214    70.619877         29                4     0.957967  "
      ]
     },
     "execution_count": 22,
     "metadata": {},
     "output_type": "execute_result"
    }
   ],
   "source": [
    "# Ok look at the final event guys\n",
    "peal = data[ data['scores'] > 0.5 ]\n",
    "peal[['runid','evtid','log10(hs_q_tot_pulses)','scores','hs_cogz','hs_z_travel','rho_travel5','ndoms_5pe','nstr_2ndway_5pe','cumuAt600ns']]\n",
    "\n",
    "#evts = peal['evtid'].as_matrix()\n",
    "#runs = peal['runid'].as_matrix()\n",
    "#outfile = open('bs2014_inSR.txt','w')\n",
    "#for i in range(len(evts)):\n",
    "#    outfile.write(str(runs[i])+\" \"+str(evts[i])+\"\\n\")\n",
    "#outfile.close()"
   ]
  },
  {
   "cell_type": "code",
   "execution_count": 18,
   "metadata": {
    "collapsed": false
   },
   "outputs": [
    {
     "data": {
      "text/plain": [
       "<matplotlib.axes._subplots.AxesSubplot at 0x7f16fc1ba510>"
      ]
     },
     "execution_count": 18,
     "metadata": {},
     "output_type": "execute_result"
    },
    {
     "data": {
      "image/png": "[encoded data removed]",
      "text/plain": [
       "<matplotlib.figure.Figure at 0x7f16fc19d050>"
      ]
     },
     "metadata": {},
     "output_type": "display_data"
    }
   ],
   "source": [
    "data.hs_z_travel.hist(range=(-500,500),bins=100,histtype='step',log=True)"
   ]
  },
  {
   "cell_type": "code",
   "execution_count": null,
   "metadata": {
    "collapsed": true
   },
   "outputs": [],
   "source": []
  }
 ],
 "metadata": {
  "kernelspec": {
   "display_name": "Python 2",
   "language": "python",
   "name": "python2"
  },
  "language_info": {
   "codemirror_mode": {
    "name": "ipython",
    "version": 2
   },
   "file_extension": ".py",
   "mimetype": "text/x-python",
   "name": "python",
   "nbconvert_exporter": "python",
   "pygments_lexer": "ipython2",
   "version": "2.7.6"
  }
 },
 "nbformat": 4,
 "nbformat_minor": 0
}
